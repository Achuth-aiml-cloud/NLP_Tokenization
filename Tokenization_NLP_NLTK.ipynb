{
  "nbformat": 4,
  "nbformat_minor": 0,
  "metadata": {
    "colab": {
      "name": "Tokenization_NLP_NLTK.ipynb",
      "provenance": []
    },
    "kernelspec": {
      "name": "python3",
      "display_name": "Python 3"
    },
    "language_info": {
      "name": "python"
    }
  },
  "cells": [
    {
      "cell_type": "code",
      "metadata": {
        "id": "mJTk3NcGGzUU"
      },
      "source": [
        "import nltk # importing nltk package"
      ],
      "execution_count": 2,
      "outputs": []
    },
    {
      "cell_type": "code",
      "metadata": {
        "colab": {
          "base_uri": "https://localhost:8080/"
        },
        "id": "Fvnx6CCAHZPi",
        "outputId": "1a9a2bfd-f961-4a76-f13a-10afc98b98aa"
      },
      "source": [
        "nltk.download('punkt')"
      ],
      "execution_count": 4,
      "outputs": [
        {
          "output_type": "stream",
          "text": [
            "[nltk_data] Downloading package punkt to /root/nltk_data...\n",
            "[nltk_data]   Unzipping tokenizers/punkt.zip.\n"
          ],
          "name": "stdout"
        },
        {
          "output_type": "execute_result",
          "data": {
            "text/plain": [
              "True"
            ]
          },
          "metadata": {
            "tags": []
          },
          "execution_count": 4
        }
      ]
    },
    {
      "cell_type": "code",
      "metadata": {
        "id": "ZhfxgcLxHtx3"
      },
      "source": [
        "paragraph = \"\"\"Elon Musk, (born June 28, 1971, Pretoria, South Africa), South African-born American entrepreneur who cofounded the electronic-payment firm PayPal and formed SpaceX, maker of launch vehicles and spacecraft. He was also one of the first significant investors in, as well as chief executive officer of, the electric car manufacturer Teslas.Musk was born to a South African father and a Canadian mother. He displayed an early talent for computers and entrepreneurship. At age 12 he created a video game and sold it to a computer magazine. In 1988, after obtaining a Canadian passport, Musk left South Africa because he was unwilling to support apartheid through compulsory military service and because he sought the greater economic opportunities available in the United States. \"\"\""
      ],
      "execution_count": 5,
      "outputs": []
    },
    {
      "cell_type": "code",
      "metadata": {
        "id": "cdsGv-UGIcf_"
      },
      "source": [
        "#sentence tokenization\n",
        "#sent_tokenize inbuilt function with so many regular expressions\n",
        "sentences = nltk.sent_tokenize(paragraph) #converting the paragraph into unique sentences"
      ],
      "execution_count": 8,
      "outputs": []
    },
    {
      "cell_type": "code",
      "metadata": {
        "colab": {
          "base_uri": "https://localhost:8080/"
        },
        "id": "KYNZhrVmJavk",
        "outputId": "e845c5f0-b853-4180-dfdf-4839be5ff434"
      },
      "source": [
        "sentences"
      ],
      "execution_count": 9,
      "outputs": [
        {
          "output_type": "execute_result",
          "data": {
            "text/plain": [
              "['Elon Musk, (born June 28, 1971, Pretoria, South Africa), South African-born American entrepreneur who cofounded the electronic-payment firm PayPal and formed SpaceX, maker of launch vehicles and spacecraft.',\n",
              " 'He was also one of the first significant investors in, as well as chief executive officer of, the electric car manufacturer Teslas.Musk was born to a South African father and a Canadian mother.',\n",
              " 'He displayed an early talent for computers and entrepreneurship.',\n",
              " 'At age 12 he created a video game and sold it to a computer magazine.',\n",
              " 'In 1988, after obtaining a Canadian passport, Musk left South Africa because he was unwilling to support apartheid through compulsory military service and because he sought the greater economic opportunities available in the United States.']"
            ]
          },
          "metadata": {
            "tags": []
          },
          "execution_count": 9
        }
      ]
    },
    {
      "cell_type": "code",
      "metadata": {
        "id": "i-YY-FQaJo2g"
      },
      "source": [
        "#word tokenizzation getting the unique words from the paragraph\n",
        "#word_tokenize inbuilt function \n",
        "words = nltk.word_tokenize(paragraph)"
      ],
      "execution_count": 10,
      "outputs": []
    },
    {
      "cell_type": "code",
      "metadata": {
        "colab": {
          "base_uri": "https://localhost:8080/"
        },
        "id": "6TojBxsiLO-B",
        "outputId": "dc3f3fec-0f54-4aa0-b3fe-ad55ed23be4a"
      },
      "source": [
        "print(words) #punctuation and comma also recgnized as a word here"
      ],
      "execution_count": 15,
      "outputs": [
        {
          "output_type": "stream",
          "text": [
            "['Elon', 'Musk', ',', '(', 'born', 'June', '28', ',', '1971', ',', 'Pretoria', ',', 'South', 'Africa', ')', ',', 'South', 'African-born', 'American', 'entrepreneur', 'who', 'cofounded', 'the', 'electronic-payment', 'firm', 'PayPal', 'and', 'formed', 'SpaceX', ',', 'maker', 'of', 'launch', 'vehicles', 'and', 'spacecraft', '.', 'He', 'was', 'also', 'one', 'of', 'the', 'first', 'significant', 'investors', 'in', ',', 'as', 'well', 'as', 'chief', 'executive', 'officer', 'of', ',', 'the', 'electric', 'car', 'manufacturer', 'Teslas.Musk', 'was', 'born', 'to', 'a', 'South', 'African', 'father', 'and', 'a', 'Canadian', 'mother', '.', 'He', 'displayed', 'an', 'early', 'talent', 'for', 'computers', 'and', 'entrepreneurship', '.', 'At', 'age', '12', 'he', 'created', 'a', 'video', 'game', 'and', 'sold', 'it', 'to', 'a', 'computer', 'magazine', '.', 'In', '1988', ',', 'after', 'obtaining', 'a', 'Canadian', 'passport', ',', 'Musk', 'left', 'South', 'Africa', 'because', 'he', 'was', 'unwilling', 'to', 'support', 'apartheid', 'through', 'compulsory', 'military', 'service', 'and', 'because', 'he', 'sought', 'the', 'greater', 'economic', 'opportunities', 'available', 'in', 'the', 'United', 'States', '.']\n"
          ],
          "name": "stdout"
        }
      ]
    },
    {
      "cell_type": "code",
      "metadata": {
        "colab": {
          "base_uri": "https://localhost:8080/"
        },
        "id": "ml9gPCGfLyy5",
        "outputId": "a131d0f4-2025-4e4c-9fdd-ac3a2e82fa5f"
      },
      "source": [
        "print(type(words))\n",
        "print(\"============\")\n",
        "print(len(words))"
      ],
      "execution_count": 16,
      "outputs": [
        {
          "output_type": "stream",
          "text": [
            "<class 'list'>\n",
            "============\n",
            "137\n"
          ],
          "name": "stdout"
        }
      ]
    },
    {
      "cell_type": "code",
      "metadata": {
        "id": "gRcWSbuWMEam"
      },
      "source": [
        "#so the output is a list with the length of 137 elements "
      ],
      "execution_count": 17,
      "outputs": []
    }
  ]
}